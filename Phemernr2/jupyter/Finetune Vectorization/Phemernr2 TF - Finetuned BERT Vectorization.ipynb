{
 "cells": [
  {
   "cell_type": "code",
   "execution_count": 1,
   "id": "629a58c7",
   "metadata": {},
   "outputs": [
    {
     "name": "stderr",
     "output_type": "stream",
     "text": [
      "c:\\Users\\msi_b\\anaconda3\\envs\\pytorch-env\\lib\\site-packages\\tqdm\\auto.py:21: TqdmWarning: IProgress not found. Please update jupyter and ipywidgets. See https://ipywidgets.readthedocs.io/en/stable/user_install.html\n",
      "  from .autonotebook import tqdm as notebook_tqdm\n"
     ]
    },
    {
     "name": "stdout",
     "output_type": "stream",
     "text": [
      "Loading done\n"
     ]
    }
   ],
   "source": [
    "from transformers import AutoModelForSequenceClassification, AutoTokenizer\n",
    "from sentence_transformers.models import Pooling\n",
    "\n",
    "pooling_layer = Pooling(768)\n",
    "tokenizer = AutoTokenizer.from_pretrained(\"bert-base-cased\")\n",
    "model = AutoModelForSequenceClassification.from_pretrained(\n",
    "    \"../../data/models/bert-base-finetuned-phemernr2-tf/checkpoint-2940/\",\n",
    "    output_hidden_states=True, num_labels=2)\n",
    "\n",
    "model.to(\"cuda\")\n",
    "print(\"Loading done\")"
   ]
  },
  {
   "cell_type": "code",
   "execution_count": 2,
   "id": "5c929727",
   "metadata": {},
   "outputs": [],
   "source": [
    "def encode_text(text):\n",
    "    inputs = tokenizer(text, return_tensors=\"pt\")\n",
    "    inputs.to(\"cuda\")\n",
    "    token_logits = model(inputs['input_ids'])\n",
    "\n",
    "    embeddings = token_logits.hidden_states[-1]\n",
    "\n",
    "    inputs = {\n",
    "        'attention_mask': inputs['attention_mask'],\n",
    "        'token_embeddings': embeddings,\n",
    "        'cls_token_embeddings': None\n",
    "    }\n",
    "    result = pooling_layer.forward(inputs)\n",
    "    result = result['sentence_embedding'].cpu().detach().numpy()\n",
    "\n",
    "    return result\n",
    "\n",
    "def encode_and_save(texts, savefile = None):\n",
    "    if not savefile:\n",
    "        print(\"Please define savefile\")\n",
    "        return\n",
    "    \n",
    "    vectors = []\n",
    "    for text in texts:\n",
    "        vectors.append(encode_text(text))\n",
    "    \n",
    "    vectors = np.array(vectors).reshape((len(texts), 768))\n",
    "    \n",
    "    with open(f\"../../data/vectors/{savefile}.txt\", \"wb\") as f:\n",
    "        np.savetxt(f, vectors, delimiter=',', fmt='%s')"
   ]
  },
  {
   "cell_type": "code",
   "execution_count": 3,
   "id": "bb7e1bf1",
   "metadata": {},
   "outputs": [
    {
     "data": {
      "text/html": [
       "<div>\n",
       "<style scoped>\n",
       "    .dataframe tbody tr th:only-of-type {\n",
       "        vertical-align: middle;\n",
       "    }\n",
       "\n",
       "    .dataframe tbody tr th {\n",
       "        vertical-align: top;\n",
       "    }\n",
       "\n",
       "    .dataframe thead th {\n",
       "        text-align: right;\n",
       "    }\n",
       "</style>\n",
       "<table border=\"1\" class=\"dataframe\">\n",
       "  <thead>\n",
       "    <tr style=\"text-align: right;\">\n",
       "      <th></th>\n",
       "      <th>tweet_id</th>\n",
       "      <th>tweet_text</th>\n",
       "      <th>label</th>\n",
       "      <th>topic</th>\n",
       "      <th>tvt2\\r</th>\n",
       "    </tr>\n",
       "  </thead>\n",
       "  <tbody>\n",
       "    <tr>\n",
       "      <th>0</th>\n",
       "      <td>580318210609696769</td>\n",
       "      <td>BREAKING - A Germanwings Airbus A320 plane rep...</td>\n",
       "      <td>True</td>\n",
       "      <td>germanwings-crash-all-rnr-threads</td>\n",
       "      <td>training\\r</td>\n",
       "    </tr>\n",
       "    <tr>\n",
       "      <th>1</th>\n",
       "      <td>552798891994009601</td>\n",
       "      <td>Reports that two of the dead in the #CharlieHe...</td>\n",
       "      <td>True</td>\n",
       "      <td>charliehebdo-all-rnr-threads</td>\n",
       "      <td>training\\r</td>\n",
       "    </tr>\n",
       "    <tr>\n",
       "      <th>2</th>\n",
       "      <td>580352540316946432</td>\n",
       "      <td>'No survivors' in #Germanwings crash says Fren...</td>\n",
       "      <td>False</td>\n",
       "      <td>germanwings-crash-all-rnr-threads</td>\n",
       "      <td>training\\r</td>\n",
       "    </tr>\n",
       "    <tr>\n",
       "      <th>3</th>\n",
       "      <td>524983403775799297</td>\n",
       "      <td>Tragedy mounts as soldier shot this AM dies of...</td>\n",
       "      <td>True</td>\n",
       "      <td>ottawashooting-all-rnr-threads</td>\n",
       "      <td>training\\r</td>\n",
       "    </tr>\n",
       "    <tr>\n",
       "      <th>4</th>\n",
       "      <td>544511915158810624</td>\n",
       "      <td>Watch the moment gunfire and explosions were h...</td>\n",
       "      <td>True</td>\n",
       "      <td>sydneysiege-all-rnr-threads</td>\n",
       "      <td>training\\r</td>\n",
       "    </tr>\n",
       "  </tbody>\n",
       "</table>\n",
       "</div>"
      ],
      "text/plain": [
       "             tweet_id                                         tweet_text  \\\n",
       "0  580318210609696769  BREAKING - A Germanwings Airbus A320 plane rep...   \n",
       "1  552798891994009601  Reports that two of the dead in the #CharlieHe...   \n",
       "2  580352540316946432  'No survivors' in #Germanwings crash says Fren...   \n",
       "3  524983403775799297  Tragedy mounts as soldier shot this AM dies of...   \n",
       "4  544511915158810624  Watch the moment gunfire and explosions were h...   \n",
       "\n",
       "   label                              topic      tvt2\\r  \n",
       "0   True  germanwings-crash-all-rnr-threads  training\\r  \n",
       "1   True       charliehebdo-all-rnr-threads  training\\r  \n",
       "2  False  germanwings-crash-all-rnr-threads  training\\r  \n",
       "3   True     ottawashooting-all-rnr-threads  training\\r  \n",
       "4   True        sydneysiege-all-rnr-threads  training\\r  "
      ]
     },
     "execution_count": 3,
     "metadata": {},
     "output_type": "execute_result"
    }
   ],
   "source": [
    "import pandas as pd\n",
    "import numpy as np\n",
    "\n",
    "data = pd.read_csv(\"../../data/processed/phemernr2-tf_dataset.csv\", lineterminator=\"\\n\")\n",
    "data.head()"
   ]
  },
  {
   "cell_type": "code",
   "execution_count": 4,
   "id": "4a3add31",
   "metadata": {},
   "outputs": [
    {
     "data": {
      "text/plain": [
       "(1705, 5)"
      ]
     },
     "execution_count": 4,
     "metadata": {},
     "output_type": "execute_result"
    }
   ],
   "source": [
    "data.shape"
   ]
  },
  {
   "cell_type": "code",
   "execution_count": 5,
   "id": "8bc17a78",
   "metadata": {},
   "outputs": [],
   "source": [
    "savefile = \"Phemernr2-TF_BERT_base_finetuned_vectors\"\n",
    "texts = data['tweet_text'].tolist()\n",
    "\n",
    "encode_and_save(texts, savefile)"
   ]
  },
  {
   "cell_type": "code",
   "execution_count": 6,
   "id": "0473c591",
   "metadata": {},
   "outputs": [
    {
     "data": {
      "text/plain": [
       "(1705, 768)"
      ]
     },
     "execution_count": 6,
     "metadata": {},
     "output_type": "execute_result"
    }
   ],
   "source": [
    "vectors = np.loadtxt(f\"../../data/vectors/{savefile}.txt\", delimiter=\",\")\n",
    "vectors.shape"
   ]
  },
  {
   "cell_type": "code",
   "execution_count": null,
   "id": "11e3977e",
   "metadata": {},
   "outputs": [],
   "source": []
  }
 ],
 "metadata": {
  "kernelspec": {
   "display_name": "Python 3 (ipykernel)",
   "language": "python",
   "name": "python3"
  },
  "language_info": {
   "codemirror_mode": {
    "name": "ipython",
    "version": 3
   },
   "file_extension": ".py",
   "mimetype": "text/x-python",
   "name": "python",
   "nbconvert_exporter": "python",
   "pygments_lexer": "ipython3",
   "version": "3.9.16"
  }
 },
 "nbformat": 4,
 "nbformat_minor": 5
}
