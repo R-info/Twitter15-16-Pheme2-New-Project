{
 "cells": [
  {
   "cell_type": "code",
   "execution_count": 1,
   "id": "9075219e",
   "metadata": {},
   "outputs": [
    {
     "data": {
      "text/html": [
       "<div>\n",
       "<style scoped>\n",
       "    .dataframe tbody tr th:only-of-type {\n",
       "        vertical-align: middle;\n",
       "    }\n",
       "\n",
       "    .dataframe tbody tr th {\n",
       "        vertical-align: top;\n",
       "    }\n",
       "\n",
       "    .dataframe thead th {\n",
       "        text-align: right;\n",
       "    }\n",
       "</style>\n",
       "<table border=\"1\" class=\"dataframe\">\n",
       "  <thead>\n",
       "    <tr style=\"text-align: right;\">\n",
       "      <th></th>\n",
       "      <th>tweet_id</th>\n",
       "      <th>tweet_text</th>\n",
       "      <th>label</th>\n",
       "      <th>label2</th>\n",
       "      <th>topic</th>\n",
       "      <th>tvt</th>\n",
       "      <th>cv_fold</th>\n",
       "      <th>tt</th>\n",
       "    </tr>\n",
       "  </thead>\n",
       "  <tbody>\n",
       "    <tr>\n",
       "      <th>0</th>\n",
       "      <td>552833795142209536</td>\n",
       "      <td>The East London Mosque would like to offer its...</td>\n",
       "      <td>non-rumours</td>\n",
       "      <td>non-rumours</td>\n",
       "      <td>charliehebdo-all-rnr-threads</td>\n",
       "      <td>test</td>\n",
       "      <td>2</td>\n",
       "      <td>test</td>\n",
       "    </tr>\n",
       "    <tr>\n",
       "      <th>1</th>\n",
       "      <td>580318210609696769</td>\n",
       "      <td>BREAKING - A Germanwings Airbus A320 plane rep...</td>\n",
       "      <td>rumours</td>\n",
       "      <td>true</td>\n",
       "      <td>germanwings-crash-all-rnr-threads</td>\n",
       "      <td>training</td>\n",
       "      <td>3</td>\n",
       "      <td>training</td>\n",
       "    </tr>\n",
       "    <tr>\n",
       "      <th>2</th>\n",
       "      <td>552798891994009601</td>\n",
       "      <td>Reports that two of the dead in the #CharlieHe...</td>\n",
       "      <td>rumours</td>\n",
       "      <td>true</td>\n",
       "      <td>charliehebdo-all-rnr-threads</td>\n",
       "      <td>test</td>\n",
       "      <td>2</td>\n",
       "      <td>test</td>\n",
       "    </tr>\n",
       "    <tr>\n",
       "      <th>3</th>\n",
       "      <td>576790814942236672</td>\n",
       "      <td>After #Putin disappeared Russian TV no longer ...</td>\n",
       "      <td>non-rumours</td>\n",
       "      <td>non-rumours</td>\n",
       "      <td>putinmissing-all-rnr-threads</td>\n",
       "      <td>test</td>\n",
       "      <td>2</td>\n",
       "      <td>test</td>\n",
       "    </tr>\n",
       "    <tr>\n",
       "      <th>4</th>\n",
       "      <td>499678822598340608</td>\n",
       "      <td>Saw #Ferguson for myself. #justiceformichaelbr...</td>\n",
       "      <td>non-rumours</td>\n",
       "      <td>non-rumours</td>\n",
       "      <td>ferguson-all-rnr-threads</td>\n",
       "      <td>training</td>\n",
       "      <td>3</td>\n",
       "      <td>training</td>\n",
       "    </tr>\n",
       "  </tbody>\n",
       "</table>\n",
       "</div>"
      ],
      "text/plain": [
       "             tweet_id                                         tweet_text  \\\n",
       "0  552833795142209536  The East London Mosque would like to offer its...   \n",
       "1  580318210609696769  BREAKING - A Germanwings Airbus A320 plane rep...   \n",
       "2  552798891994009601  Reports that two of the dead in the #CharlieHe...   \n",
       "3  576790814942236672  After #Putin disappeared Russian TV no longer ...   \n",
       "4  499678822598340608  Saw #Ferguson for myself. #justiceformichaelbr...   \n",
       "\n",
       "         label       label2                              topic       tvt  \\\n",
       "0  non-rumours  non-rumours       charliehebdo-all-rnr-threads      test   \n",
       "1      rumours         true  germanwings-crash-all-rnr-threads  training   \n",
       "2      rumours         true       charliehebdo-all-rnr-threads      test   \n",
       "3  non-rumours  non-rumours       putinmissing-all-rnr-threads      test   \n",
       "4  non-rumours  non-rumours           ferguson-all-rnr-threads  training   \n",
       "\n",
       "   cv_fold        tt  \n",
       "0        2      test  \n",
       "1        3  training  \n",
       "2        2      test  \n",
       "3        2      test  \n",
       "4        3  training  "
      ]
     },
     "execution_count": 1,
     "metadata": {},
     "output_type": "execute_result"
    }
   ],
   "source": [
    "import pandas as pd\n",
    "import numpy as np\n",
    "import random\n",
    "\n",
    "random.seed(33)\n",
    "\n",
    "data = pd.read_csv(\"../../data/processed/phemernr2_dataset_with_tvt.csv\")\n",
    "data.head()"
   ]
  },
  {
   "cell_type": "code",
   "execution_count": 2,
   "id": "38839b11",
   "metadata": {},
   "outputs": [
    {
     "data": {
      "text/plain": [
       "6425"
      ]
     },
     "execution_count": 2,
     "metadata": {},
     "output_type": "execute_result"
    }
   ],
   "source": [
    "length = data.shape[0]\n",
    "length"
   ]
  },
  {
   "cell_type": "code",
   "execution_count": 3,
   "id": "958cbce1",
   "metadata": {},
   "outputs": [
    {
     "data": {
      "text/plain": [
       "non-rumours    4023\n",
       "rumours        2402\n",
       "Name: label, dtype: int64"
      ]
     },
     "execution_count": 3,
     "metadata": {},
     "output_type": "execute_result"
    }
   ],
   "source": [
    "data['label'].value_counts()"
   ]
  },
  {
   "cell_type": "code",
   "execution_count": 4,
   "id": "ac5a2fa7",
   "metadata": {},
   "outputs": [
    {
     "name": "stdout",
     "output_type": "stream",
     "text": [
      "8\n",
      "{'charliehebdo-all-rnr-threads': 1622, 'putinmissing-all-rnr-threads': 113, 'ferguson-all-rnr-threads': 860, 'ottawashooting-all-rnr-threads': 421, 'sydneysiege-all-rnr-threads': 700, 'germanwings-crash-all-rnr-threads': 232, 'gurlitt-all-rnr-threads': 78, 'prince-toronto-all-rnr-threads': 5}\n"
     ]
    }
   ],
   "source": [
    "nr_topics = {}\n",
    "nr_topics_us = {}\n",
    "for i, df in data.iterrows():\n",
    "    if df['label'] == 'non-rumours':\n",
    "        if df['topic'] not in nr_topics:\n",
    "            nr_topics[df['topic']] = 1\n",
    "            nr_topics_us[df['topic']] = 0\n",
    "        nr_topics[df['topic']] += 1\n",
    "print(len(nr_topics))\n",
    "print(nr_topics)"
   ]
  },
  {
   "cell_type": "code",
   "execution_count": 5,
   "id": "2f424fac",
   "metadata": {},
   "outputs": [
    {
     "data": {
      "text/plain": [
       "['charliehebdo-all-rnr-threads',\n",
       " 'germanwings-crash-all-rnr-threads',\n",
       " 'putinmissing-all-rnr-threads',\n",
       " 'ferguson-all-rnr-threads',\n",
       " 'ottawashooting-all-rnr-threads',\n",
       " 'sydneysiege-all-rnr-threads',\n",
       " 'gurlitt-all-rnr-threads',\n",
       " 'prince-toronto-all-rnr-threads',\n",
       " 'ebola-essien-all-rnr-threads']"
      ]
     },
     "execution_count": 5,
     "metadata": {},
     "output_type": "execute_result"
    }
   ],
   "source": [
    "data['topic'].unique().tolist()"
   ]
  },
  {
   "cell_type": "code",
   "execution_count": 6,
   "id": "a01ad01f",
   "metadata": {},
   "outputs": [
    {
     "data": {
      "text/plain": [
       "True     3705\n",
       "False    2720\n",
       "Name: undersample, dtype: int64"
      ]
     },
     "execution_count": 6,
     "metadata": {},
     "output_type": "execute_result"
    }
   ],
   "source": [
    "undersampling = []\n",
    "weight = [0, 0, 1]\n",
    "for i, df in data.iterrows():\n",
    "    if df['label'] == \"non-rumours\":\n",
    "        gacha = random.sample(weight, 1)[0]\n",
    "        if gacha == 1:\n",
    "            undersampling.append(True)\n",
    "        else:\n",
    "            undersampling.append(False)\n",
    "    else:\n",
    "        undersampling.append(True)\n",
    "data['undersample'] = pd.Series(undersampling)\n",
    "data['undersample'].value_counts()"
   ]
  },
  {
   "cell_type": "code",
   "execution_count": 7,
   "id": "11c8fb4e",
   "metadata": {},
   "outputs": [
    {
     "data": {
      "text/plain": [
       "(3705, 9)"
      ]
     },
     "execution_count": 7,
     "metadata": {},
     "output_type": "execute_result"
    }
   ],
   "source": [
    "data = data[data['undersample'] == True]\n",
    "data.shape"
   ]
  },
  {
   "cell_type": "code",
   "execution_count": 11,
   "id": "6b9029c0",
   "metadata": {},
   "outputs": [
    {
     "name": "stdout",
     "output_type": "stream",
     "text": [
      "8\n",
      "{'charliehebdo-all-rnr-threads': 513, 'ferguson-all-rnr-threads': 279, 'sydneysiege-all-rnr-threads': 230, 'germanwings-crash-all-rnr-threads': 86, 'ottawashooting-all-rnr-threads': 136, 'putinmissing-all-rnr-threads': 36, 'gurlitt-all-rnr-threads': 29, 'prince-toronto-all-rnr-threads': 2}\n"
     ]
    }
   ],
   "source": [
    "nr_topics2 = {}\n",
    "for i, df in data.iterrows():\n",
    "    if df['label'] == 'non-rumours':\n",
    "        if df['topic'] not in nr_topics2:\n",
    "            nr_topics2[df['topic']] = 1\n",
    "        nr_topics2[df['topic']] += 1\n",
    "print(len(nr_topics2))\n",
    "print(nr_topics2)"
   ]
  },
  {
   "cell_type": "code",
   "execution_count": 26,
   "id": "0fb4f936",
   "metadata": {},
   "outputs": [
    {
     "name": "stdout",
     "output_type": "stream",
     "text": [
      "charliehebdo\t: 1622\n",
      "putinmissing\t: 113\n",
      "ferguson\t: 860\n",
      "ottawashooting\t: 421\n",
      "sydneysiege\t: 700\n",
      "germanwings\t: 232\n",
      "gurlitt\t: 78\n",
      "prince\t: 5\n"
     ]
    }
   ],
   "source": [
    "for k, v in nr_topics.items():\n",
    "    print(f\"{k.split('-')[0]}\\t: {v}\")"
   ]
  },
  {
   "cell_type": "code",
   "execution_count": 31,
   "id": "37773a9d",
   "metadata": {},
   "outputs": [
    {
     "name": "stdout",
     "output_type": "stream",
     "text": [
      "charliehebdo\t: 1622 | 513\n",
      "putinmissing\t: 113 | 36\n",
      "ferguson\t: 860 | 279\n",
      "ottawashooting\t: 421 | 136\n",
      "sydneysiege\t: 700 | 230\n",
      "germanwings\t: 232 | 86\n",
      "gurlitt\t: 78 | 29\n",
      "prince\t: 5 | 2\n"
     ]
    }
   ],
   "source": [
    "for k, v in nr_topics.items():\n",
    "    print(f\"{k.split('-')[0]}\\t: {v} | {nr_topics2[k]}\")"
   ]
  },
  {
   "cell_type": "code",
   "execution_count": 20,
   "id": "d83c2c4b",
   "metadata": {},
   "outputs": [
    {
     "name": "stdout",
     "output_type": "stream",
     "text": [
      "charliehebdo\t: original 0.402/0.391 undersampled\n",
      "putinmissing\t: original 0.028/0.027 undersampled\n",
      "ferguson\t: original 0.213/0.213 undersampled\n",
      "ottawashooting\t: original 0.104/0.104 undersampled\n",
      "sydneysiege\t: original 0.174/0.175 undersampled\n",
      "germanwings\t: original 0.058/0.066 undersampled\n",
      "gurlitt\t: original 0.019/0.022 undersampled\n",
      "prince\t: original 0.001/0.002 undersampled\n"
     ]
    }
   ],
   "source": [
    "total = sum([v for k, v in nr_topics.items()])\n",
    "total2 = sum([v for k, v in nr_topics2.items()])\n",
    "for k, v in nr_topics.items():\n",
    "    print(f\"{k.split('-')[0]}\\t: original {round(v/total, 3)} | {round(nr_topics2[k]/total2, 3)} undersampled\")"
   ]
  },
  {
   "cell_type": "code",
   "execution_count": 33,
   "id": "7676c55e",
   "metadata": {},
   "outputs": [
    {
     "name": "stdout",
     "output_type": "stream",
     "text": [
      "(3705, 5)\n"
     ]
    },
    {
     "data": {
      "text/html": [
       "<div>\n",
       "<style scoped>\n",
       "    .dataframe tbody tr th:only-of-type {\n",
       "        vertical-align: middle;\n",
       "    }\n",
       "\n",
       "    .dataframe tbody tr th {\n",
       "        vertical-align: top;\n",
       "    }\n",
       "\n",
       "    .dataframe thead th {\n",
       "        text-align: right;\n",
       "    }\n",
       "</style>\n",
       "<table border=\"1\" class=\"dataframe\">\n",
       "  <thead>\n",
       "    <tr style=\"text-align: right;\">\n",
       "      <th></th>\n",
       "      <th>tweet_id</th>\n",
       "      <th>tweet_text</th>\n",
       "      <th>label</th>\n",
       "      <th>label2</th>\n",
       "      <th>topic</th>\n",
       "    </tr>\n",
       "  </thead>\n",
       "  <tbody>\n",
       "    <tr>\n",
       "      <th>0</th>\n",
       "      <td>552833795142209536</td>\n",
       "      <td>The East London Mosque would like to offer its...</td>\n",
       "      <td>non-rumours</td>\n",
       "      <td>non-rumours</td>\n",
       "      <td>charliehebdo-all-rnr-threads</td>\n",
       "    </tr>\n",
       "    <tr>\n",
       "      <th>1</th>\n",
       "      <td>580318210609696769</td>\n",
       "      <td>BREAKING - A Germanwings Airbus A320 plane rep...</td>\n",
       "      <td>rumours</td>\n",
       "      <td>true</td>\n",
       "      <td>germanwings-crash-all-rnr-threads</td>\n",
       "    </tr>\n",
       "    <tr>\n",
       "      <th>2</th>\n",
       "      <td>552798891994009601</td>\n",
       "      <td>Reports that two of the dead in the #CharlieHe...</td>\n",
       "      <td>rumours</td>\n",
       "      <td>true</td>\n",
       "      <td>charliehebdo-all-rnr-threads</td>\n",
       "    </tr>\n",
       "    <tr>\n",
       "      <th>4</th>\n",
       "      <td>499678822598340608</td>\n",
       "      <td>Saw #Ferguson for myself. #justiceformichaelbr...</td>\n",
       "      <td>non-rumours</td>\n",
       "      <td>non-rumours</td>\n",
       "      <td>ferguson-all-rnr-threads</td>\n",
       "    </tr>\n",
       "    <tr>\n",
       "      <th>7</th>\n",
       "      <td>552822434639126528</td>\n",
       "      <td>\"You tell the media it was al-Qaeda in Yemen\" ...</td>\n",
       "      <td>rumours</td>\n",
       "      <td>unverified</td>\n",
       "      <td>charliehebdo-all-rnr-threads</td>\n",
       "    </tr>\n",
       "  </tbody>\n",
       "</table>\n",
       "</div>"
      ],
      "text/plain": [
       "             tweet_id                                         tweet_text  \\\n",
       "0  552833795142209536  The East London Mosque would like to offer its...   \n",
       "1  580318210609696769  BREAKING - A Germanwings Airbus A320 plane rep...   \n",
       "2  552798891994009601  Reports that two of the dead in the #CharlieHe...   \n",
       "4  499678822598340608  Saw #Ferguson for myself. #justiceformichaelbr...   \n",
       "7  552822434639126528  \"You tell the media it was al-Qaeda in Yemen\" ...   \n",
       "\n",
       "         label       label2                              topic  \n",
       "0  non-rumours  non-rumours       charliehebdo-all-rnr-threads  \n",
       "1      rumours         true  germanwings-crash-all-rnr-threads  \n",
       "2      rumours         true       charliehebdo-all-rnr-threads  \n",
       "4  non-rumours  non-rumours           ferguson-all-rnr-threads  \n",
       "7      rumours   unverified       charliehebdo-all-rnr-threads  "
      ]
     },
     "execution_count": 33,
     "metadata": {},
     "output_type": "execute_result"
    }
   ],
   "source": [
    "data = data[['tweet_id', 'tweet_text', 'label', 'label2', 'topic']]\n",
    "print(data.shape)\n",
    "data.head()"
   ]
  },
  {
   "cell_type": "code",
   "execution_count": 34,
   "id": "7a2aea76",
   "metadata": {},
   "outputs": [
    {
     "data": {
      "text/plain": [
       "rumours        2402\n",
       "non-rumours    1303\n",
       "Name: label, dtype: int64"
      ]
     },
     "execution_count": 34,
     "metadata": {},
     "output_type": "execute_result"
    }
   ],
   "source": [
    "data['label'].value_counts()"
   ]
  },
  {
   "cell_type": "code",
   "execution_count": 35,
   "id": "50abe44d",
   "metadata": {},
   "outputs": [],
   "source": [
    "data.to_csv(\"../../data/processed/phemernr3_dataset_with_tvt.csv\", index=False)"
   ]
  },
  {
   "cell_type": "code",
   "execution_count": null,
   "id": "81ea8dfa",
   "metadata": {},
   "outputs": [],
   "source": []
  }
 ],
 "metadata": {
  "kernelspec": {
   "display_name": "Python 3",
   "language": "python",
   "name": "python3"
  },
  "language_info": {
   "codemirror_mode": {
    "name": "ipython",
    "version": 3
   },
   "file_extension": ".py",
   "mimetype": "text/x-python",
   "name": "python",
   "nbconvert_exporter": "python",
   "pygments_lexer": "ipython3",
   "version": "3.8.10"
  }
 },
 "nbformat": 4,
 "nbformat_minor": 5
}
